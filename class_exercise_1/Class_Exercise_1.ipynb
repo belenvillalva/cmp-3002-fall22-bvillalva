{
 "cells": [
  {
   "cell_type": "code",
   "execution_count": 42,
   "id": "aa29aef6",
   "metadata": {},
   "outputs": [
    {
     "name": "stdout",
     "output_type": "stream",
     "text": [
      "1\n",
      "3\n",
      "6\n",
      "10\n",
      "15\n",
      "21\n",
      "28\n",
      "36\n",
      "45\n",
      "55\n"
     ]
    }
   ],
   "source": [
    "#Exercise 2 (Use a loop to do this)\n",
    "def numbers(n):\n",
    "    start = 0\n",
    "    for number in range (1, n+1):\n",
    "        start = start + number\n",
    "        print (start)\n",
    "numbers (10)"
   ]
  },
  {
   "cell_type": "code",
   "execution_count": 43,
   "id": "a4d2e98e",
   "metadata": {},
   "outputs": [
    {
     "name": "stdout",
     "output_type": "stream",
     "text": [
      "55.0\n"
     ]
    }
   ],
   "source": [
    "#Exercise 3 (more efficient way)\n",
    "n=10\n",
    "suma = n*(n+1)/2\n",
    "print(suma)"
   ]
  }
 ],
 "metadata": {
  "kernelspec": {
   "display_name": "Python 3 (ipykernel)",
   "language": "python",
   "name": "python3"
  },
  "language_info": {
   "codemirror_mode": {
    "name": "ipython",
    "version": 3
   },
   "file_extension": ".py",
   "mimetype": "text/x-python",
   "name": "python",
   "nbconvert_exporter": "python",
   "pygments_lexer": "ipython3",
   "version": "3.9.12"
  }
 },
 "nbformat": 4,
 "nbformat_minor": 5
}
